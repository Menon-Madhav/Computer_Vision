{
  "nbformat": 4,
  "nbformat_minor": 0,
  "metadata": {
    "colab": {
      "name": "Task3_MadhavM.ipynb",
      "provenance": [],
      "authorship_tag": "ABX9TyOuvTrBKejD82/yL1SvrRtL",
      "include_colab_link": true
    },
    "kernelspec": {
      "name": "python3",
      "display_name": "Python 3"
    },
    "language_info": {
      "name": "python"
    }
  },
  "cells": [
    {
      "cell_type": "markdown",
      "metadata": {
        "id": "view-in-github",
        "colab_type": "text"
      },
      "source": [
        "<a href=\"https://colab.research.google.com/github/Menon-Madhav/Computer_Vision/blob/main/Fashion_MNIST_Models.ipynb\" target=\"_parent\"><img src=\"https://colab.research.google.com/assets/colab-badge.svg\" alt=\"Open In Colab\"/></a>"
      ]
    },
    {
      "cell_type": "markdown",
      "metadata": {
        "id": "Bj72Nt2xBXpq"
      },
      "source": [
        "Imported all necessary libraries"
      ]
    },
    {
      "cell_type": "code",
      "metadata": {
        "id": "plOzd43h-X8k"
      },
      "source": [
        "import tensorflow as tf\n",
        "import numpy as np\n",
        "import matplotlib.pyplot as plt\n",
        "from tensorflow.keras import models,layers, datasets\n",
        "import pandas as pd"
      ],
      "execution_count": 1,
      "outputs": []
    },
    {
      "cell_type": "markdown",
      "metadata": {
        "id": "nbEmwMtvDDSy"
      },
      "source": [
        "load all data"
      ]
    },
    {
      "cell_type": "code",
      "metadata": {
        "id": "e_o2LZRiBODb",
        "colab": {
          "base_uri": "https://localhost:8080/"
        },
        "outputId": "11509969-17db-42e9-ee7c-e4e44367810b"
      },
      "source": [
        "(train_img, train_label), (test_img, test_label) = datasets.fashion_mnist.load_data()"
      ],
      "execution_count": 2,
      "outputs": [
        {
          "output_type": "stream",
          "text": [
            "Downloading data from https://storage.googleapis.com/tensorflow/tf-keras-datasets/train-labels-idx1-ubyte.gz\n",
            "32768/29515 [=================================] - 0s 0us/step\n",
            "Downloading data from https://storage.googleapis.com/tensorflow/tf-keras-datasets/train-images-idx3-ubyte.gz\n",
            "26427392/26421880 [==============================] - 0s 0us/step\n",
            "Downloading data from https://storage.googleapis.com/tensorflow/tf-keras-datasets/t10k-labels-idx1-ubyte.gz\n",
            "8192/5148 [===============================================] - 0s 0us/step\n",
            "Downloading data from https://storage.googleapis.com/tensorflow/tf-keras-datasets/t10k-images-idx3-ubyte.gz\n",
            "4423680/4422102 [==============================] - 0s 0us/step\n"
          ],
          "name": "stdout"
        }
      ]
    },
    {
      "cell_type": "code",
      "metadata": {
        "colab": {
          "base_uri": "https://localhost:8080/",
          "height": 265
        },
        "id": "GCYf7NQqDH17",
        "outputId": "8fb1f0da-5a2c-4937-eda2-86121bced44d"
      },
      "source": [
        "\n",
        "plt.imshow(train_img[6], cmap='gray')\n",
        "plt.show()"
      ],
      "execution_count": null,
      "outputs": [
        {
          "output_type": "display_data",
          "data": {
            "image/png": "[encoded data removed]",
            "text/plain": [
              "<Figure size 432x288 with 1 Axes>"
            ]
          },
          "metadata": {
            "tags": [],
            "needs_background": "light"
          }
        }
      ]
    },
    {
      "cell_type": "markdown",
      "metadata": {
        "id": "rKmniwI0DeDr"
      },
      "source": [
        "splitting train data into train and validation data"
      ]
    },
    {
      "cell_type": "code",
      "metadata": {
        "id": "3Q4-quntDcfb"
      },
      "source": [
        "img_train = train_img[0:49980]\n",
        "label_train = train_label[0:49980]\n",
        "img_val = train_img[49980:]\n",
        "label_val = train_label[49980:]"
      ],
      "execution_count": 3,
      "outputs": []
    },
    {
      "cell_type": "code",
      "metadata": {
        "colab": {
          "base_uri": "https://localhost:8080/"
        },
        "id": "kTciXTa4IwzS",
        "outputId": "e4af3395-c6a1-4f32-e41b-252f0dc1f2d8"
      },
      "source": [
        "print(img_train.shape)\n",
        "print(label_train.shape)\n",
        "print(img_val.shape)\n",
        "print(label_val.shape)\n"
      ],
      "execution_count": 6,
      "outputs": [
        {
          "output_type": "stream",
          "text": [
            "(49980, 28, 28)\n",
            "(49980,)\n",
            "(10020, 28, 28)\n",
            "(10020,)\n"
          ],
          "name": "stdout"
        }
      ]
    },
    {
      "cell_type": "code",
      "metadata": {
        "id": "GlQZaltfPF_w"
      },
      "source": [
        "img_train = np.reshape(img_train , (49980, 28, 28, 1))\n",
        "img_val = np.reshape(img_val , (10020, 28, 28, 1))\n",
        "\n"
      ],
      "execution_count": 7,
      "outputs": []
    },
    {
      "cell_type": "markdown",
      "metadata": {
        "id": "_RfTucKigx-m"
      },
      "source": [
        "model for the CNN Architecture"
      ]
    },
    {
      "cell_type": "code",
      "metadata": {
        "id": "y81uMSgsgr63",
        "colab": {
          "base_uri": "https://localhost:8080/"
        },
        "outputId": "4c5a4fd7-6ef5-421c-eb4e-6e58d4ba0d6c"
      },
      "source": [
        "model_2 = models.Sequential()\n",
        "model_2.add(layers.Conv2D(64, kernel_size= (3, 3), strides = (1,1), activation= 'relu', input_shape=(28, 28, 1) ))\n",
        "model_2.add(layers.MaxPool2D())\n",
        "model_2.add(layers.Conv2D(64, kernel_size= (3,3), strides = (1,1), activation='relu' ))\n",
        "model_2.add(layers.MaxPool2D())\n",
        "model_2.add(layers.Flatten())\n",
        "model_2.add(layers.Dense(256, activation='relu'))\n",
        "model_2.add(layers.Dense(10, activation='softmax'))\n",
        "\n",
        "model_2.summary()"
      ],
      "execution_count": 9,
      "outputs": [
        {
          "output_type": "stream",
          "text": [
            "Model: \"sequential_1\"\n",
            "_________________________________________________________________\n",
            "Layer (type)                 Output Shape              Param #   \n",
            "=================================================================\n",
            "conv2d_2 (Conv2D)            (None, 26, 26, 64)        640       \n",
            "_________________________________________________________________\n",
            "max_pooling2d_2 (MaxPooling2 (None, 13, 13, 64)        0         \n",
            "_________________________________________________________________\n",
            "conv2d_3 (Conv2D)            (None, 11, 11, 64)        36928     \n",
            "_________________________________________________________________\n",
            "max_pooling2d_3 (MaxPooling2 (None, 5, 5, 64)          0         \n",
            "_________________________________________________________________\n",
            "flatten_1 (Flatten)          (None, 1600)              0         \n",
            "_________________________________________________________________\n",
            "dense_2 (Dense)              (None, 256)               409856    \n",
            "_________________________________________________________________\n",
            "dense_3 (Dense)              (None, 10)                2570      \n",
            "=================================================================\n",
            "Total params: 449,994\n",
            "Trainable params: 449,994\n",
            "Non-trainable params: 0\n",
            "_________________________________________________________________\n"
          ],
          "name": "stdout"
        }
      ]
    },
    {
      "cell_type": "code",
      "metadata": {
        "colab": {
          "base_uri": "https://localhost:8080/"
        },
        "id": "hcK94ao3mh5D",
        "outputId": "20c0f4fc-256e-49e5-959f-68a50f004193"
      },
      "source": [
        "model_2.compile( optimizer = 'adam', \n",
        "               loss = tf.keras.losses.SparseCategoricalCrossentropy(from_logits=True),\n",
        "               metrics = ['accuracy'])\n",
        "history = model_2.fit(img_train, label_train, epochs = 20, validation_data = (img_val, label_val))"
      ],
      "execution_count": 12,
      "outputs": [
        {
          "output_type": "stream",
          "text": [
            "Epoch 1/20\n"
          ],
          "name": "stdout"
        },
        {
          "output_type": "stream",
          "text": [
            "/usr/local/lib/python3.7/dist-packages/tensorflow/python/keras/backend.py:4930: UserWarning: \"`sparse_categorical_crossentropy` received `from_logits=True`, but the `output` argument was produced by a sigmoid or softmax activation and thus does not represent logits. Was this intended?\"\n",
            "  '\"`sparse_categorical_crossentropy` received `from_logits=True`, but '\n"
          ],
          "name": "stderr"
        },
        {
          "output_type": "stream",
          "text": [
            "1562/1562 [==============================] - 77s 49ms/step - loss: 0.7095 - accuracy: 0.8142 - val_loss: 0.3777 - val_accuracy: 0.8628\n",
            "Epoch 2/20\n",
            "1562/1562 [==============================] - 76s 48ms/step - loss: 0.3571 - accuracy: 0.8657 - val_loss: 0.3786 - val_accuracy: 0.8650\n",
            "Epoch 3/20\n",
            "1562/1562 [==============================] - 75s 48ms/step - loss: 0.3085 - accuracy: 0.8837 - val_loss: 0.3339 - val_accuracy: 0.8761\n",
            "Epoch 4/20\n",
            "1562/1562 [==============================] - 75s 48ms/step - loss: 0.2839 - accuracy: 0.8930 - val_loss: 0.3356 - val_accuracy: 0.8869\n",
            "Epoch 5/20\n",
            "1562/1562 [==============================] - 74s 48ms/step - loss: 0.2607 - accuracy: 0.9012 - val_loss: 0.3388 - val_accuracy: 0.8824\n",
            "Epoch 6/20\n",
            "1562/1562 [==============================] - 74s 48ms/step - loss: 0.2424 - accuracy: 0.9079 - val_loss: 0.3376 - val_accuracy: 0.8826\n",
            "Epoch 7/20\n",
            "1562/1562 [==============================] - 74s 48ms/step - loss: 0.2268 - accuracy: 0.9135 - val_loss: 0.3543 - val_accuracy: 0.8807\n",
            "Epoch 8/20\n",
            "1562/1562 [==============================] - 74s 48ms/step - loss: 0.2137 - accuracy: 0.9187 - val_loss: 0.3451 - val_accuracy: 0.8827\n",
            "Epoch 9/20\n",
            "1562/1562 [==============================] - 75s 48ms/step - loss: 0.2000 - accuracy: 0.9257 - val_loss: 0.3503 - val_accuracy: 0.8910\n",
            "Epoch 10/20\n",
            "1562/1562 [==============================] - 75s 48ms/step - loss: 0.1883 - accuracy: 0.9283 - val_loss: 0.3717 - val_accuracy: 0.8870\n",
            "Epoch 11/20\n",
            "1562/1562 [==============================] - 75s 48ms/step - loss: 0.1757 - accuracy: 0.9348 - val_loss: 0.4141 - val_accuracy: 0.8826\n",
            "Epoch 12/20\n",
            "1562/1562 [==============================] - 75s 48ms/step - loss: 0.1574 - accuracy: 0.9408 - val_loss: 0.3690 - val_accuracy: 0.8962\n",
            "Epoch 13/20\n",
            "1562/1562 [==============================] - 74s 48ms/step - loss: 0.1561 - accuracy: 0.9429 - val_loss: 0.4182 - val_accuracy: 0.8881\n",
            "Epoch 14/20\n",
            "1562/1562 [==============================] - 75s 48ms/step - loss: 0.1431 - accuracy: 0.9466 - val_loss: 0.4536 - val_accuracy: 0.8926\n",
            "Epoch 15/20\n",
            "1562/1562 [==============================] - 75s 48ms/step - loss: 0.1343 - accuracy: 0.9516 - val_loss: 0.4956 - val_accuracy: 0.8918\n",
            "Epoch 16/20\n",
            "1562/1562 [==============================] - 74s 48ms/step - loss: 0.1340 - accuracy: 0.9521 - val_loss: 0.5280 - val_accuracy: 0.8901\n",
            "Epoch 17/20\n",
            "1562/1562 [==============================] - 74s 48ms/step - loss: 0.1283 - accuracy: 0.9542 - val_loss: 0.5232 - val_accuracy: 0.8904\n",
            "Epoch 18/20\n",
            "1562/1562 [==============================] - 74s 48ms/step - loss: 0.1172 - accuracy: 0.9578 - val_loss: 0.5350 - val_accuracy: 0.8835\n",
            "Epoch 19/20\n",
            "1562/1562 [==============================] - 74s 47ms/step - loss: 0.1129 - accuracy: 0.9592 - val_loss: 0.5788 - val_accuracy: 0.8927\n",
            "Epoch 20/20\n",
            "1562/1562 [==============================] - 74s 47ms/step - loss: 0.1059 - accuracy: 0.9612 - val_loss: 0.5618 - val_accuracy: 0.8910\n"
          ],
          "name": "stdout"
        }
      ]
    },
    {
      "cell_type": "code",
      "metadata": {
        "id": "H4Kv_EcytHCk"
      },
      "source": [
        ""
      ],
      "execution_count": null,
      "outputs": []
    }
  ]
}