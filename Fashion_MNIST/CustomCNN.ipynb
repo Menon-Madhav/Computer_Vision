{
  "nbformat": 4,
  "nbformat_minor": 0,
  "metadata": {
    "colab": {
      "name": "Task3_MadhavM.ipynb",
      "provenance": [],
      "authorship_tag": "ABX9TyPknG+TjOIPjEOiu40W5Qti",
      "include_colab_link": true
    },
    "kernelspec": {
      "name": "python3",
      "display_name": "Python 3"
    },
    "language_info": {
      "name": "python"
    }
  },
  "cells": [
    {
      "cell_type": "markdown",
      "metadata": {
        "id": "view-in-github",
        "colab_type": "text"
      },
      "source": [
        "<a href=\"https://colab.research.google.com/github/Menon-Madhav/Computer_Vision/blob/main/Fashion_MNIST/CustomCNN.ipynb\" target=\"_parent\"><img src=\"https://colab.research.google.com/assets/colab-badge.svg\" alt=\"Open In Colab\"/></a>"
      ]
    },
    {
      "cell_type": "markdown",
      "metadata": {
        "id": "Bj72Nt2xBXpq"
      },
      "source": [
        "Imported all necessary libraries"
      ]
    },
    {
      "cell_type": "code",
      "metadata": {
        "id": "plOzd43h-X8k"
      },
      "source": [
        "import tensorflow as tf\n",
        "import numpy as np\n",
        "import matplotlib.pyplot as plt\n",
        "from tensorflow.keras import models,layers, datasets\n",
        "import pandas as pd"
      ],
      "execution_count": 2,
      "outputs": []
    },
    {
      "cell_type": "markdown",
      "metadata": {
        "id": "nbEmwMtvDDSy"
      },
      "source": [
        "load all data"
      ]
    },
    {
      "cell_type": "code",
      "metadata": {
        "id": "e_o2LZRiBODb",
        "colab": {
          "base_uri": "https://localhost:8080/"
        },
        "outputId": "b04f0bd9-3c85-4ac5-8fa5-2b6428b2c368"
      },
      "source": [
        "(train_img, train_label), (test_img, test_label) = datasets.fashion_mnist.load_data()"
      ],
      "execution_count": 3,
      "outputs": [
        {
          "output_type": "stream",
          "text": [
            "Downloading data from https://storage.googleapis.com/tensorflow/tf-keras-datasets/train-labels-idx1-ubyte.gz\n",
            "32768/29515 [=================================] - 0s 0us/step\n",
            "Downloading data from https://storage.googleapis.com/tensorflow/tf-keras-datasets/train-images-idx3-ubyte.gz\n",
            "26427392/26421880 [==============================] - 0s 0us/step\n",
            "Downloading data from https://storage.googleapis.com/tensorflow/tf-keras-datasets/t10k-labels-idx1-ubyte.gz\n",
            "8192/5148 [===============================================] - 0s 0us/step\n",
            "Downloading data from https://storage.googleapis.com/tensorflow/tf-keras-datasets/t10k-images-idx3-ubyte.gz\n",
            "4423680/4422102 [==============================] - 0s 0us/step\n"
          ],
          "name": "stdout"
        }
      ]
    },
    {
      "cell_type": "code",
      "metadata": {
        "colab": {
          "base_uri": "https://localhost:8080/",
          "height": 265
        },
        "id": "GCYf7NQqDH17",
        "outputId": "4587149a-058b-4cdb-e958-a1d258507c93"
      },
      "source": [
        "\n",
        "plt.imshow(train_img[6], cmap='gray')\n",
        "plt.show()"
      ],
      "execution_count": 4,
      "outputs": [
        {
          "output_type": "display_data",
          "data": {
            "image/png": "[encoded data removed]",
            "text/plain": [
              "<Figure size 432x288 with 1 Axes>"
            ]
          },
          "metadata": {
            "tags": [],
            "needs_background": "light"
          }
        }
      ]
    },
    {
      "cell_type": "markdown",
      "metadata": {
        "id": "rKmniwI0DeDr"
      },
      "source": [
        "splitting train data into train and validation data"
      ]
    },
    {
      "cell_type": "code",
      "metadata": {
        "id": "3Q4-quntDcfb"
      },
      "source": [
        "img_train = train_img[0:49980]\n",
        "label_train = train_label[0:49980]\n",
        "img_val = train_img[49980:]\n",
        "label_val = train_label[49980:]"
      ],
      "execution_count": 5,
      "outputs": []
    },
    {
      "cell_type": "code",
      "metadata": {
        "colab": {
          "base_uri": "https://localhost:8080/"
        },
        "id": "kTciXTa4IwzS",
        "outputId": "6b159fc8-68f7-4d61-fb98-a137c46c68e5"
      },
      "source": [
        "print(img_train.shape)\n",
        "print(label_train.shape)\n",
        "print(img_val.shape)\n",
        "print(label_val.shape)\n"
      ],
      "execution_count": 6,
      "outputs": [
        {
          "output_type": "stream",
          "text": [
            "(49980, 28, 28)\n",
            "(49980,)\n",
            "(10020, 28, 28)\n",
            "(10020,)\n"
          ],
          "name": "stdout"
        }
      ]
    },
    {
      "cell_type": "code",
      "metadata": {
        "id": "GlQZaltfPF_w"
      },
      "source": [
        "img_train = np.reshape(img_train , (49980, 28, 28, 1))\n",
        "img_val = np.reshape(img_val , (10020, 28, 28, 1))\n",
        "\n"
      ],
      "execution_count": 7,
      "outputs": []
    },
    {
      "cell_type": "markdown",
      "metadata": {
        "id": "_RfTucKigx-m"
      },
      "source": [
        "model for the CNN Architecture"
      ]
    },
    {
      "cell_type": "code",
      "metadata": {
        "id": "y81uMSgsgr63",
        "colab": {
          "base_uri": "https://localhost:8080/"
        },
        "outputId": "5e4795e6-f548-41fd-8d62-d2f5537a9796"
      },
      "source": [
        "model_2 = models.Sequential()\n",
        "model_2.add(layers.Conv2D(64, kernel_size= (3, 3), strides = (1,1), activation= 'relu', input_shape=(28, 28, 1) ))\n",
        "model_2.add(layers.MaxPool2D())\n",
        "model_2.add(layers.Conv2D(64, kernel_size= (3,3), strides = (1,1), activation='relu' ))\n",
        "model_2.add(layers.MaxPool2D())\n",
        "model_2.add(layers.Flatten())\n",
        "model_2.add(layers.Dense(256, activation='relu'))\n",
        "model_2.add(layers.Dense(10, activation='softmax'))\n",
        "\n",
        "model_2.summary()"
      ],
      "execution_count": 8,
      "outputs": [
        {
          "output_type": "stream",
          "text": [
            "Model: \"sequential\"\n",
            "_________________________________________________________________\n",
            "Layer (type)                 Output Shape              Param #   \n",
            "=================================================================\n",
            "conv2d (Conv2D)              (None, 26, 26, 64)        640       \n",
            "_________________________________________________________________\n",
            "max_pooling2d (MaxPooling2D) (None, 13, 13, 64)        0         \n",
            "_________________________________________________________________\n",
            "conv2d_1 (Conv2D)            (None, 11, 11, 64)        36928     \n",
            "_________________________________________________________________\n",
            "max_pooling2d_1 (MaxPooling2 (None, 5, 5, 64)          0         \n",
            "_________________________________________________________________\n",
            "flatten (Flatten)            (None, 1600)              0         \n",
            "_________________________________________________________________\n",
            "dense (Dense)                (None, 256)               409856    \n",
            "_________________________________________________________________\n",
            "dense_1 (Dense)              (None, 10)                2570      \n",
            "=================================================================\n",
            "Total params: 449,994\n",
            "Trainable params: 449,994\n",
            "Non-trainable params: 0\n",
            "_________________________________________________________________\n"
          ],
          "name": "stdout"
        }
      ]
    },
    {
      "cell_type": "code",
      "metadata": {
        "colab": {
          "base_uri": "https://localhost:8080/"
        },
        "id": "hcK94ao3mh5D",
        "outputId": "e0e2f7ef-8be8-4f9e-b7a9-db902f494751"
      },
      "source": [
        "model_2.compile( optimizer = 'adam', \n",
        "               loss = tf.keras.losses.SparseCategoricalCrossentropy(from_logits=True),\n",
        "               metrics = ['accuracy'])\n",
        "history = model_2.fit(img_train, label_train, epochs = 20, validation_data = (img_val, label_val))"
      ],
      "execution_count": 11,
      "outputs": [
        {
          "output_type": "stream",
          "text": [
            "Epoch 1/20\n"
          ],
          "name": "stdout"
        },
        {
          "output_type": "stream",
          "text": [
            "/usr/local/lib/python3.7/dist-packages/tensorflow/python/keras/backend.py:4930: UserWarning: \"`sparse_categorical_crossentropy` received `from_logits=True`, but the `output` argument was produced by a sigmoid or softmax activation and thus does not represent logits. Was this intended?\"\n",
            "  '\"`sparse_categorical_crossentropy` received `from_logits=True`, but '\n"
          ],
          "name": "stderr"
        },
        {
          "output_type": "stream",
          "text": [
            "1562/1562 [==============================] - 72s 45ms/step - loss: 0.6228 - accuracy: 0.8250 - val_loss: 0.4139 - val_accuracy: 0.8461\n",
            "Epoch 2/20\n",
            "1562/1562 [==============================] - 70s 45ms/step - loss: 0.3430 - accuracy: 0.8746 - val_loss: 0.3410 - val_accuracy: 0.8673\n",
            "Epoch 3/20\n",
            "1562/1562 [==============================] - 70s 45ms/step - loss: 0.3021 - accuracy: 0.8885 - val_loss: 0.3723 - val_accuracy: 0.8698\n",
            "Epoch 4/20\n",
            "1562/1562 [==============================] - 70s 45ms/step - loss: 0.2780 - accuracy: 0.8955 - val_loss: 0.3479 - val_accuracy: 0.8735\n",
            "Epoch 5/20\n",
            "1562/1562 [==============================] - 70s 45ms/step - loss: 0.2556 - accuracy: 0.9030 - val_loss: 0.3282 - val_accuracy: 0.8796\n",
            "Epoch 6/20\n",
            "1562/1562 [==============================] - 71s 45ms/step - loss: 0.2400 - accuracy: 0.9084 - val_loss: 0.3372 - val_accuracy: 0.8827\n",
            "Epoch 7/20\n",
            "1562/1562 [==============================] - 71s 45ms/step - loss: 0.2227 - accuracy: 0.9151 - val_loss: 0.3724 - val_accuracy: 0.8775\n",
            "Epoch 8/20\n",
            "1562/1562 [==============================] - 70s 45ms/step - loss: 0.2089 - accuracy: 0.9205 - val_loss: 0.3386 - val_accuracy: 0.8893\n",
            "Epoch 9/20\n",
            "1562/1562 [==============================] - 70s 45ms/step - loss: 0.1951 - accuracy: 0.9273 - val_loss: 0.3524 - val_accuracy: 0.8910\n",
            "Epoch 10/20\n",
            "1562/1562 [==============================] - 70s 45ms/step - loss: 0.1780 - accuracy: 0.9332 - val_loss: 0.3761 - val_accuracy: 0.8866\n",
            "Epoch 11/20\n",
            "1562/1562 [==============================] - 70s 45ms/step - loss: 0.1731 - accuracy: 0.9360 - val_loss: 0.3687 - val_accuracy: 0.8899\n",
            "Epoch 12/20\n",
            "1562/1562 [==============================] - 70s 45ms/step - loss: 0.1572 - accuracy: 0.9404 - val_loss: 0.4249 - val_accuracy: 0.8840\n",
            "Epoch 13/20\n",
            "1562/1562 [==============================] - 70s 45ms/step - loss: 0.1461 - accuracy: 0.9457 - val_loss: 0.4879 - val_accuracy: 0.8830\n",
            "Epoch 14/20\n",
            "1562/1562 [==============================] - 70s 45ms/step - loss: 0.1398 - accuracy: 0.9481 - val_loss: 0.4449 - val_accuracy: 0.8872\n",
            "Epoch 15/20\n",
            "1562/1562 [==============================] - 70s 45ms/step - loss: 0.1407 - accuracy: 0.9493 - val_loss: 0.4884 - val_accuracy: 0.8857\n",
            "Epoch 16/20\n",
            "1562/1562 [==============================] - 70s 45ms/step - loss: 0.1360 - accuracy: 0.9511 - val_loss: 0.4985 - val_accuracy: 0.8884\n",
            "Epoch 17/20\n",
            "1562/1562 [==============================] - 70s 45ms/step - loss: 0.1208 - accuracy: 0.9564 - val_loss: 0.5281 - val_accuracy: 0.8879\n",
            "Epoch 18/20\n",
            "1562/1562 [==============================] - 71s 46ms/step - loss: 0.1186 - accuracy: 0.9578 - val_loss: 0.5712 - val_accuracy: 0.8816\n",
            "Epoch 19/20\n",
            "1562/1562 [==============================] - 71s 46ms/step - loss: 0.1188 - accuracy: 0.9582 - val_loss: 0.5796 - val_accuracy: 0.8907\n",
            "Epoch 20/20\n",
            "1562/1562 [==============================] - 71s 46ms/step - loss: 0.1145 - accuracy: 0.9597 - val_loss: 0.6301 - val_accuracy: 0.8888\n"
          ],
          "name": "stdout"
        }
      ]
    },
    {
      "cell_type": "code",
      "metadata": {
        "colab": {
          "base_uri": "https://localhost:8080/",
          "height": 296
        },
        "id": "9qlaOpAeqD9_",
        "outputId": "3ca4ea5e-3f0e-4215-9f14-85f286d99a6d"
      },
      "source": [
        "plt.plot(history.history['accuracy'], label='accuracy')\n",
        "plt.plot(history.history['val_accuracy'], label='val_accuracy')\n",
        "plt.xlabel('Epoch')\n",
        "plt.ylabel('Accuracy')\n",
        "#Overfitting is seen\n",
        "plt.legend(loc='lower right')\n"
      ],
      "execution_count": 12,
      "outputs": [
        {
          "output_type": "execute_result",
          "data": {
            "text/plain": [
              "<matplotlib.legend.Legend at 0x7fbef58f5a90>"
            ]
          },
          "metadata": {
            "tags": []
          },
          "execution_count": 12
        },
        {
          "output_type": "display_data",
          "data": {
            "image/png": "[encoded data removed]",
            "text/plain": [
              "<Figure size 432x288 with 1 Axes>"
            ]
          },
          "metadata": {
            "tags": [],
            "needs_background": "light"
          }
        }
      ]
    },
    {
      "cell_type": "code",
      "metadata": {
        "colab": {
          "base_uri": "https://localhost:8080/",
          "height": 296
        },
        "id": "TGDix5q7scW8",
        "outputId": "32367b94-497a-45aa-f91d-29430b12c4d7"
      },
      "source": [
        "plt.plot(history.history['loss'], label='loss')\n",
        "plt.plot(history.history['val_loss'], label='val_loss')\n",
        "plt.xlabel('Epoch')\n",
        "plt.ylabel('Loss')\n",
        "                      \n",
        "plt.legend(loc='lower right')"
      ],
      "execution_count": 13,
      "outputs": [
        {
          "output_type": "execute_result",
          "data": {
            "text/plain": [
              "<matplotlib.legend.Legend at 0x7fbef47fd750>"
            ]
          },
          "metadata": {
            "tags": []
          },
          "execution_count": 13
        },
        {
          "output_type": "display_data",
          "data": {
            "image/png": "[encoded data removed]",
            "text/plain": [
              "<Figure size 432x288 with 1 Axes>"
            ]
          },
          "metadata": {
            "tags": [],
            "needs_background": "light"
          }
        }
      ]
    },
    {
      "cell_type": "markdown",
      "metadata": {
        "id": "e5PAFBQKttHH"
      },
      "source": [
        "Using Pre-trained Models"
      ]
    },
    {
      "cell_type": "code",
      "metadata": {
        "id": "H4Kv_EcytHCk"
      },
      "source": [
        ""
      ],
      "execution_count": 18,
      "outputs": []
    }
  ]
}