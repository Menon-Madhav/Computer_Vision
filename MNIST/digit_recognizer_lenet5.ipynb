{
  "nbformat": 4,
  "nbformat_minor": 0,
  "metadata": {
    "colab": {
      "name": "digit_recognizer.ipynb",
      "provenance": [],
      "authorship_tag": "ABX9TyOxoPX0TQVb/zQgRJvEjwry",
      "include_colab_link": true
    },
    "kernelspec": {
      "name": "python3",
      "display_name": "Python 3"
    },
    "language_info": {
      "name": "python"
    }
  },
  "cells": [
    {
      "cell_type": "markdown",
      "metadata": {
        "id": "view-in-github",
        "colab_type": "text"
      },
      "source": [
        "<a href=\"https://colab.research.google.com/github/Menon-Madhav/Computer_Vision/blob/main/MNIST/digit_recognizer_lenet5.ipynb\" target=\"_parent\"><img src=\"https://colab.research.google.com/assets/colab-badge.svg\" alt=\"Open In Colab\"/></a>"
      ]
    },
    {
      "cell_type": "code",
      "metadata": {
        "id": "z7dJXi5RUXVw"
      },
      "source": [
        "import tensorflow as tf\n",
        "from tensorflow.keras import models, layers, datasets\n",
        "import numpy as np\n",
        "import matplotlib.pyplot as plt\n"
      ],
      "execution_count": 1,
      "outputs": []
    },
    {
      "cell_type": "code",
      "metadata": {
        "colab": {
          "base_uri": "https://localhost:8080/"
        },
        "id": "CO1zO5PXU6Yc",
        "outputId": "3bd8dd53-66b3-4bc2-f824-2bb655815535"
      },
      "source": [
        "(x_train, y_train), (x_test, y_test) = datasets.mnist.load_data()"
      ],
      "execution_count": 2,
      "outputs": [
        {
          "output_type": "stream",
          "text": [
            "Downloading data from https://storage.googleapis.com/tensorflow/tf-keras-datasets/mnist.npz\n",
            "11493376/11490434 [==============================] - 0s 0us/step\n"
          ],
          "name": "stdout"
        }
      ]
    },
    {
      "cell_type": "code",
      "metadata": {
        "colab": {
          "base_uri": "https://localhost:8080/",
          "height": 265
        },
        "id": "emYZQGysVK4p",
        "outputId": "2c748d50-3394-4512-9d9e-4c5f19e000fb"
      },
      "source": [
        "plt.imshow(x_train[1], cmap='gray')\n",
        "plt.show()"
      ],
      "execution_count": null,
      "outputs": [
        {
          "output_type": "display_data",
          "data": {
            "image/png": "[encoded data removed]",
            "text/plain": [
              "<Figure size 432x288 with 1 Axes>"
            ]
          },
          "metadata": {
            "tags": [],
            "needs_background": "light"
          }
        }
      ]
    },
    {
      "cell_type": "markdown",
      "metadata": {
        "id": "L08eEltg2QHl"
      },
      "source": [
        "padding to increase size"
      ]
    },
    {
      "cell_type": "code",
      "metadata": {
        "colab": {
          "base_uri": "https://localhost:8080/"
        },
        "id": "BawuvexjVVeS",
        "outputId": "bd1df365-57cf-4b8b-ff35-34bd632541c4"
      },
      "source": [
        "x_trains = np.zeros((60000, 32, 32))\n",
        "for i in range(60000):\n",
        "  x_trains[i] = np.pad(x_train[i], pad_width = 2, mode='edge')\n",
        "print(x_trains[0].shape)"
      ],
      "execution_count": 8,
      "outputs": [
        {
          "output_type": "stream",
          "text": [
            "(32, 32)\n"
          ],
          "name": "stdout"
        }
      ]
    },
    {
      "cell_type": "markdown",
      "metadata": {
        "id": "eW465ILz2TeF"
      },
      "source": [
        "splitting into validation and train data"
      ]
    },
    {
      "cell_type": "code",
      "metadata": {
        "id": "Jse6omkuV-az"
      },
      "source": [
        "train_img = x_trains[:49980]\n",
        "train_label = y_train[:49980]\n",
        "val_img = x_trains[49980:]\n",
        "val_label = y_train[49980:]  "
      ],
      "execution_count": 9,
      "outputs": []
    },
    {
      "cell_type": "code",
      "metadata": {
        "id": "FNAEv1VbXALC"
      },
      "source": [
        "train_img = np.reshape(train_img, (49980, 32, 32, 1))\n",
        "val_img = np.reshape(val_img, (10020, 32, 32, 1))\n"
      ],
      "execution_count": 10,
      "outputs": []
    },
    {
      "cell_type": "markdown",
      "metadata": {
        "id": "Yhl_-CGj2X8N"
      },
      "source": [
        " Lenet 5 model architecture"
      ]
    },
    {
      "cell_type": "code",
      "metadata": {
        "id": "Af0PIw54WUtq",
        "colab": {
          "base_uri": "https://localhost:8080/"
        },
        "outputId": "6c595b74-dfbf-484f-897b-ceeb6b95325a"
      },
      "source": [
        "model = models.Sequential()\n",
        "model.add(layers.Conv2D(6, activation = 'relu', input_shape = (32, 32, 1), strides = 1,kernel_size =5 ))\n",
        "model.add(layers.AveragePooling2D())\n",
        "model.add(layers.Conv2D(16, activation = 'relu', strides = 1, kernel_size = 5))\n",
        "model.add(layers.AveragePooling2D())\n",
        "model.add(layers.Flatten())\n",
        "model.add(layers.Dense(120, activation='relu'))\n",
        "model.add(layers.Dense(84, activation='relu'))\n",
        "model.add(layers.Dense(10, activation= 'softmax'))\n",
        "          \n",
        "model.summary()         "
      ],
      "execution_count": 11,
      "outputs": [
        {
          "output_type": "stream",
          "text": [
            "Model: \"sequential\"\n",
            "_________________________________________________________________\n",
            "Layer (type)                 Output Shape              Param #   \n",
            "=================================================================\n",
            "conv2d (Conv2D)              (None, 28, 28, 6)         156       \n",
            "_________________________________________________________________\n",
            "average_pooling2d (AveragePo (None, 14, 14, 6)         0         \n",
            "_________________________________________________________________\n",
            "conv2d_1 (Conv2D)            (None, 10, 10, 16)        2416      \n",
            "_________________________________________________________________\n",
            "average_pooling2d_1 (Average (None, 5, 5, 16)          0         \n",
            "_________________________________________________________________\n",
            "flatten (Flatten)            (None, 400)               0         \n",
            "_________________________________________________________________\n",
            "dense (Dense)                (None, 120)               48120     \n",
            "_________________________________________________________________\n",
            "dense_1 (Dense)              (None, 84)                10164     \n",
            "_________________________________________________________________\n",
            "dense_2 (Dense)              (None, 10)                850       \n",
            "=================================================================\n",
            "Total params: 61,706\n",
            "Trainable params: 61,706\n",
            "Non-trainable params: 0\n",
            "_________________________________________________________________\n"
          ],
          "name": "stdout"
        }
      ]
    },
    {
      "cell_type": "code",
      "metadata": {
        "colab": {
          "base_uri": "https://localhost:8080/"
        },
        "id": "N7WEVrAu1uPO",
        "outputId": "f8d24b56-b99d-4990-f92e-127e52c11295"
      },
      "source": [
        "model.compile( optimizer = 'adam', \n",
        "               loss = tf.keras.losses.SparseCategoricalCrossentropy(from_logits=True),\n",
        "               metrics = ['accuracy'])\n",
        "history = model.fit(train_img, train_label, epochs = 20, validation_data = (val_img, val_label))"
      ],
      "execution_count": 12,
      "outputs": [
        {
          "output_type": "stream",
          "text": [
            "Epoch 1/20\n"
          ],
          "name": "stdout"
        },
        {
          "output_type": "stream",
          "text": [
            "/usr/local/lib/python3.7/dist-packages/tensorflow/python/keras/backend.py:4930: UserWarning: \"`sparse_categorical_crossentropy` received `from_logits=True`, but the `output` argument was produced by a sigmoid or softmax activation and thus does not represent logits. Was this intended?\"\n",
            "  '\"`sparse_categorical_crossentropy` received `from_logits=True`, but '\n"
          ],
          "name": "stderr"
        },
        {
          "output_type": "stream",
          "text": [
            "1562/1562 [==============================] - 35s 22ms/step - loss: 0.2204 - accuracy: 0.9421 - val_loss: 0.0604 - val_accuracy: 0.9817\n",
            "Epoch 2/20\n",
            "1562/1562 [==============================] - 32s 21ms/step - loss: 0.0679 - accuracy: 0.9789 - val_loss: 0.0507 - val_accuracy: 0.9856\n",
            "Epoch 3/20\n",
            "1562/1562 [==============================] - 32s 21ms/step - loss: 0.0536 - accuracy: 0.9829 - val_loss: 0.0494 - val_accuracy: 0.9854\n",
            "Epoch 4/20\n",
            "1562/1562 [==============================] - 32s 21ms/step - loss: 0.0427 - accuracy: 0.9864 - val_loss: 0.0494 - val_accuracy: 0.9866\n",
            "Epoch 5/20\n",
            "1562/1562 [==============================] - 34s 22ms/step - loss: 0.0366 - accuracy: 0.9883 - val_loss: 0.0504 - val_accuracy: 0.9846\n",
            "Epoch 6/20\n",
            "1562/1562 [==============================] - 35s 22ms/step - loss: 0.0323 - accuracy: 0.9899 - val_loss: 0.0496 - val_accuracy: 0.9860\n",
            "Epoch 7/20\n",
            "1562/1562 [==============================] - 35s 23ms/step - loss: 0.0275 - accuracy: 0.9912 - val_loss: 0.0541 - val_accuracy: 0.9851\n",
            "Epoch 8/20\n",
            "1562/1562 [==============================] - 35s 22ms/step - loss: 0.0258 - accuracy: 0.9918 - val_loss: 0.0488 - val_accuracy: 0.9878\n",
            "Epoch 9/20\n",
            "1562/1562 [==============================] - 35s 22ms/step - loss: 0.0205 - accuracy: 0.9938 - val_loss: 0.0584 - val_accuracy: 0.9880\n",
            "Epoch 10/20\n",
            "1562/1562 [==============================] - 34s 22ms/step - loss: 0.0228 - accuracy: 0.9927 - val_loss: 0.0685 - val_accuracy: 0.9834\n",
            "Epoch 11/20\n",
            "1562/1562 [==============================] - 34s 22ms/step - loss: 0.0199 - accuracy: 0.9940 - val_loss: 0.0520 - val_accuracy: 0.9879\n",
            "Epoch 12/20\n",
            "1562/1562 [==============================] - 35s 22ms/step - loss: 0.0177 - accuracy: 0.9943 - val_loss: 0.0579 - val_accuracy: 0.9893\n",
            "Epoch 13/20\n",
            "1562/1562 [==============================] - 35s 22ms/step - loss: 0.0197 - accuracy: 0.9944 - val_loss: 0.0584 - val_accuracy: 0.9882\n",
            "Epoch 14/20\n",
            "1562/1562 [==============================] - 35s 22ms/step - loss: 0.0159 - accuracy: 0.9950 - val_loss: 0.0752 - val_accuracy: 0.9866\n",
            "Epoch 15/20\n",
            "1562/1562 [==============================] - 35s 23ms/step - loss: 0.0172 - accuracy: 0.9953 - val_loss: 0.0717 - val_accuracy: 0.9876\n",
            "Epoch 16/20\n",
            "1562/1562 [==============================] - 35s 22ms/step - loss: 0.0150 - accuracy: 0.9958 - val_loss: 0.0702 - val_accuracy: 0.9869\n",
            "Epoch 17/20\n",
            "1562/1562 [==============================] - 34s 22ms/step - loss: 0.0144 - accuracy: 0.9959 - val_loss: 0.0741 - val_accuracy: 0.9872\n",
            "Epoch 18/20\n",
            "1562/1562 [==============================] - 34s 22ms/step - loss: 0.0154 - accuracy: 0.9959 - val_loss: 0.0668 - val_accuracy: 0.9881\n",
            "Epoch 19/20\n",
            "1562/1562 [==============================] - 35s 22ms/step - loss: 0.0137 - accuracy: 0.9959 - val_loss: 0.0987 - val_accuracy: 0.9828\n",
            "Epoch 20/20\n",
            "1562/1562 [==============================] - 35s 22ms/step - loss: 0.0123 - accuracy: 0.9965 - val_loss: 0.0898 - val_accuracy: 0.9867\n"
          ],
          "name": "stdout"
        }
      ]
    },
    {
      "cell_type": "code",
      "metadata": {
        "colab": {
          "base_uri": "https://localhost:8080/",
          "height": 296
        },
        "id": "xEuijcfy5NM4",
        "outputId": "4ff93ff0-60f6-4e16-b848-b41ee2c74f0e"
      },
      "source": [
        "plt.plot(history.history['accuracy'], label='accuracy')\n",
        "plt.plot(history.history['val_accuracy'], label='val_accuracy')\n",
        "plt.xlabel('Epoch')\n",
        "plt.ylabel('Accuracy')\n",
        "\n",
        "plt.legend(loc='lower right')\n",
        "\n"
      ],
      "execution_count": 13,
      "outputs": [
        {
          "output_type": "execute_result",
          "data": {
            "text/plain": [
              "<matplotlib.legend.Legend at 0x7fe8b72cd110>"
            ]
          },
          "metadata": {
            "tags": []
          },
          "execution_count": 13
        },
        {
          "output_type": "display_data",
          "data": {
            "image/png": "[encoded data removed]",
            "text/plain": [
              "<Figure size 432x288 with 1 Axes>"
            ]
          },
          "metadata": {
            "tags": [],
            "needs_background": "light"
          }
        }
      ]
    },
    {
      "cell_type": "code",
      "metadata": {
        "colab": {
          "base_uri": "https://localhost:8080/",
          "height": 296
        },
        "id": "1vkWYovH5Q1_",
        "outputId": "3f19a59c-3508-42fb-949a-5b20da57891f"
      },
      "source": [
        "plt.plot(history.history['loss'], label='loss')\n",
        "plt.plot(history.history['val_loss'], label='val_loss')\n",
        "plt.xlabel('Epoch')\n",
        "plt.ylabel('Loss')\n",
        "                                    \n",
        "plt.legend(loc='lower right')"
      ],
      "execution_count": 14,
      "outputs": [
        {
          "output_type": "execute_result",
          "data": {
            "text/plain": [
              "<matplotlib.legend.Legend at 0x7fe8b61d8b50>"
            ]
          },
          "metadata": {
            "tags": []
          },
          "execution_count": 14
        },
        {
          "output_type": "display_data",
          "data": {
            "image/png": "[encoded data removed]",
            "text/plain": [
              "<Figure size 432x288 with 1 Axes>"
            ]
          },
          "metadata": {
            "tags": [],
            "needs_background": "light"
          }
        }
      ]
    }
  ]
}